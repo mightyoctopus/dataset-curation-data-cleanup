{
 "cells": [
  {
   "cell_type": "markdown",
   "id": "8f2684ea-323e-4a01-976c-44cb9d81628a",
   "metadata": {},
   "source": [
    "## Dataset Inspection\n",
    "\n",
    "Dataset: McAuley-Lab/Amazon-Reviews-2023\n"
   ]
  },
  {
   "cell_type": "code",
   "execution_count": null,
   "id": "5657ec3e-d28c-4bf5-8c46-9684ee58efda",
   "metadata": {},
   "outputs": [],
   "source": [
    "!pip install -q -U python-dotenv huggingface-hub datasets matplotlib"
   ]
  },
  {
   "cell_type": "code",
   "execution_count": 1,
   "id": "58187ca6-1519-4ac1-bfa6-fa5619519aa8",
   "metadata": {},
   "outputs": [
    {
     "name": "stderr",
     "output_type": "stream",
     "text": [
      "/Volumes/VTG/Dev/C_5/Projects/week6/data_curation-optimization/.venv/lib/python3.13/site-packages/tqdm/auto.py:21: TqdmWarning: IProgress not found. Please update jupyter and ipywidgets. See https://ipywidgets.readthedocs.io/en/stable/user_install.html\n",
      "  from .autonotebook import tqdm as notebook_tqdm\n"
     ]
    }
   ],
   "source": [
    "import os\n",
    "from dotenv import load_dotenv\n",
    "from huggingface_hub import login\n",
    "from datasets import load_dataset, Dataset, DatasetDict \n",
    "import matplotlib.pyplot as plt"
   ]
  },
  {
   "cell_type": "code",
   "execution_count": 2,
   "id": "98188e2b-e4b6-43ec-a686-7ad7c5d0d6f6",
   "metadata": {},
   "outputs": [],
   "source": [
    "load_dotenv()\n",
    "\n",
    "OPENAI_API_KEY = os.getenv(\"OPENAI_API_KEY\")\n",
    "ANTHROPIC_API_KEY = os.getenv(\"ANTHROPIC_API_KEY\")"
   ]
  },
  {
   "cell_type": "code",
   "execution_count": 3,
   "id": "680ec81e-486e-4f15-8bbd-7be3d58da187",
   "metadata": {},
   "outputs": [
    {
     "name": "stderr",
     "output_type": "stream",
     "text": [
      "Note: Environment variable`HF_TOKEN` is set and is the current active token independently from the token you've just configured.\n"
     ]
    }
   ],
   "source": [
    "### Log in to HuggingFace\n",
    "\n",
    "HF_TOKEN = os.getenv(\"HF_TOKEN\")\n",
    "login(HF_TOKEN, add_to_git_credential=True)"
   ]
  },
  {
   "cell_type": "code",
   "execution_count": 4,
   "id": "468683de-6edf-4009-9871-98e1e57677f6",
   "metadata": {},
   "outputs": [],
   "source": [
    "### Load dataset\n",
    "cateogry = \"Electronics\"\n",
    "dataset_base_path = f\"https://huggingface.co/datasets/McAuley-Lab/Amazon-Reviews-2023/resolve/main/raw_meta_{cateogry}/\"\n",
    "num_files = 10\n",
    "\n",
    "urls = [f\"{dataset_base_path}full-0000{i}-of-00010.parquet\" for i in range(num_files)]\n",
    "\n",
    "dataset = load_dataset(\n",
    "    \"parquet\",\n",
    "    data_files=urls,\n",
    "    split=\"train\"\n",
    ")"
   ]
  },
  {
   "cell_type": "code",
   "execution_count": 5,
   "id": "29ae8fee-d54b-44b2-a139-ed6c5cbd0f24",
   "metadata": {},
   "outputs": [
    {
     "name": "stdout",
     "output_type": "stream",
     "text": [
      "Number of Products:  1610012\n"
     ]
    }
   ],
   "source": [
    "print(\"Number of Products: \", len(dataset))"
   ]
  },
  {
   "cell_type": "code",
   "execution_count": 6,
   "id": "af038095-5cc1-4b50-93fb-b149422af739",
   "metadata": {},
   "outputs": [
    {
     "name": "stdout",
     "output_type": "stream",
     "text": [
      "TITLE:\n",
      " Column(['FS-1051 FATSHARK TELEPORTER V3 HEADSET', 'Ce-H22B12-S1 4Kx2K Hdmi 4Port', 'Digi-Tatoo Decal Skin Compatible With MacBook Pro 13 inch (Model A2338/ A2289/ A2251) - Protective and Decorative Full Body Laptop Skin Decal Sticker, Anti-Scratch Vinly Skin Sticker Wrap [Fresh Marble]', 'NotoCity Compatible with Vivoactive 4 band 22mm Quick Release Silicone Bands/Garmin Darth Vader/First Avenger/Polar Vantage Smartwatch Sport Breathable Strap Replacement for Gear S3 Classic Watchband', 'Motorola Droid X Essentials Combo Pack'])\n",
      "======================================================================\n",
      "DESC:\n",
      " Column([['Teleporter V3 The “Teleporter V3” kit sets a new level of value in the FPV world with Fat Shark renowned performance and quality. The fun of FPV is experienced firsthand through the large screen FPV headset with integrated NexwaveRF receiver technology while simultaneously recording onboard HD footage with the included “PilotHD” camera. The “Teleporter V3” kit comes complete with everything you need to step into the cockpit of your FPV vehicle. We’ve included our powerful 250mW 5.8Ghz transmitter, 25 degree FOV headset (largest QVGA display available), the brand new “PilotHD” camera with live AV out and all the cables, antennas and connectors needed.'], ['HDMI In - HDMI Out'], [], [], ['all Genuine High Quality Motorola Made Accessories, including Multimedia Station with HDMI technology, HDMI Cable and AC Wall Charger, Motorola Navigation / Music Vehicle Charging Mount Car Dock and Motorola 12v Vehicle Power Adapter Charger!']])\n",
      "======================================================================\n",
      "FEATURES:\n",
      " Column([[], ['UPC: 662774021904', 'Weight: 0.600 lbs'], ['WARNING: Please IDENTIFY MODEL NUMBER on the bottom of your Macbook. Only fits for model A2338/ A2289/ A2251 (Macbook Pro 13\" w/ Touch Bar, 2022/2020 release).', 'Extra Care Yet Not Bulky. Our skin is capable of protecting the surface of your Macbook from daily scratches, dust, oil, water and fingerprint. Your Macbook remains fresh some years later.', 'Elegant Style. Our stylish design and printing tech give your Macbook a 360 degree decorative and impressive looking. Take it out and get tons of compliments.', 'Easy Apply. Easy, bubble-free installation and goo-free removal. Installation guide is well documented in paper material and video format.', '100% SATISFACTION GUARANTEED. We use best vinyl material and printing technology and offer premium service. Full refund is guaranteed if you are not satisfied with our product.'], ['☛NotoCity 22mm band is designed for Vivoactive 4 / Samsung Gear S3 Classic / S3 Frontier / Gear Live / Samsung Galaxy Watch 46mm / Huawei Watch GT / Tickwatch Pro / S2 / E2 / Pebble Classic / Time / Time Steel / Pebble 2 (Not Pebble steel) / Other Watches with 22mm lugs.', '➹Wrist Size: Small size fits wrist: 6.49inches-8.46inches (165-215mm), Large size fits wrist: 7.28inches-9.25inches (185-235mm) ,Please measure your wrist and make sure the size before you purchase.', \"➹No Tool Needed: Quick Release Pin is easy to wear or remove. Bands made of high-quality soft Silicone material, Anti-sweat, soft and more comfortable to wear. Metal clasp locks onto your watch band interface precisely and securely, so it's not moving on the watch band.\", '➹Suitable for Many Occasions: Good for perspiration which is suitable for sports of various kinds. Such as, Running, Walking, Climbing, swimming, biking and others. Simple stripe design, suitable for daily life, study and work.', \"☎Any problem with the item you receive or any opinion, please don't hesitate to contact us, we will find the best solution to solve.\"], ['New Droid X Essentials Combo Pack', 'Exclusive Package Incredible Value Worth $145!!!', 'Includes all Genuine High Quality Motorola Made Accessories']])\n",
      "======================================================================\n",
      "DETAILS:\n",
      " Column(['{\"Date First Available\": \"August 2, 2014\", \"Manufacturer\": \"Fatshark\"}', '{\"Product Dimensions\": \"0.83 x 4.17 x 2.05 inches\", \"Item Weight\": \"5.3 ounces\", \"Item model number\": \"CE-H22B12-S1\", \"Is Discontinued By Manufacturer\": \"No\", \"Date First Available\": \"June 3, 2015\", \"Manufacturer\": \"SIIG\"}', '{\"Brand\": \"Digi-Tatoo\", \"Color\": \"Fresh Marble\", \"Room Type\": \"Bedroom\", \"Material\": \"Vinyl\", \"Theme\": \"Marble\", \"Style\": \"fresh marble\", \"Age Range (Description)\": \"Adult\", \"Reusability\": \"Single Use\", \"Pattern\": \"Marble\", \"Shape\": \"Rectangular\", \"Unit Count\": \"1.0 Count\", \"Finish Type\": \"Powder Coated\", \"Item Weight\": \"3.84 ounces\", \"Package Dimensions\": \"14.13 x 9.8 x 0.16 inches\", \"Manufacturer\": \"Digi-Tatoo\", \"Country of Origin\": \"China\", \"Date First Available\": \"June 3, 2019\", \"Best Sellers Rank\": {\"Computers & Accessories\": 87106, \"Laptop Decals\": 16463}}', '{\"Date First Available\": \"May 29, 2020\", \"Manufacturer\": \"NotoCity\"}', '{\"Product Dimensions\": \"11.6 x 6.9 x 3.1 inches\", \"Item Weight\": \"1.5 pounds\", \"Other display features\": \"Wireless\", \"Manufacturer\": \"Verizon\", \"Date First Available\": \"November 26, 2010\"}'])\n",
      "======================================================================\n",
      "PRICE:\n",
      " Column(['None', 'None', '19.99', '9.99', '14.99'])\n"
     ]
    }
   ],
   "source": [
    "print(\"TITLE:\\n\", dataset[\"title\"])\n",
    "print(\"======================================================================\")\n",
    "print(\"DESC:\\n\", dataset[\"description\"])\n",
    "print(\"======================================================================\")\n",
    "print(\"FEATURES:\\n\", dataset[\"features\"]) \n",
    "print(\"======================================================================\")\n",
    "print(\"DETAILS:\\n\", dataset[\"details\"]) \n",
    "print(\"======================================================================\")\n",
    "print(\"PRICE:\\n\", dataset[\"price\"])"
   ]
  },
  {
   "cell_type": "code",
   "execution_count": 7,
   "id": "f23a6463-f8c0-47f5-b4b4-7ec00252218a",
   "metadata": {},
   "outputs": [
    {
     "name": "stdout",
     "output_type": "stream",
     "text": [
      "There are 526,439 products with the price tag, which is 32.7% out of the total properties.\n"
     ]
    }
   ],
   "source": [
    "### How many have price info? \n",
    "# counts only datapoints that have the price label with actual float value.\n",
    "# If \"none\", \"N/A\", \"\"(empty string) or any value mismatch, it ddirects it to\n",
    "# the except block\n",
    "\n",
    "prices = 0\n",
    "for datapoint in dataset[\"price\"]: \n",
    "    try:\n",
    "        if datapoint is not None and float(datapoint) > 0: \n",
    "            prices += 1\n",
    "    except (ValueError, TypeError) as e:\n",
    "        continue\n",
    "\n",
    "print(f\"There are {prices:,} products with the price tag, which is {(prices / len(dataset)) * 100:,.1f}% out of the total properties.\")\n"
   ]
  },
  {
   "cell_type": "code",
   "execution_count": 8,
   "id": "322e4664-0a64-4de6-aae5-b64fb001f358",
   "metadata": {},
   "outputs": [
    {
     "name": "stdout",
     "output_type": "stream",
     "text": [
      "Average Price: $96.46 (USD)\n"
     ]
    }
   ],
   "source": [
    "### 1. Average Price (only for those that have price info)\n",
    "price_list = []\n",
    "\n",
    "for datapoint in dataset[\"price\"]:\n",
    "    try: \n",
    "        if datapoint is not None and float(datapoint) > 0:\n",
    "            price_list.append(float(datapoint))\n",
    "\n",
    "    except (ValueError, TypeError) as e: \n",
    "        continue\n",
    "\n",
    "avg_price = sum(price_list) / len(price_list)\n",
    "print(f\"Average Price: ${avg_price:,.2f} (USD)\")"
   ]
  },
  {
   "cell_type": "code",
   "execution_count": 27,
   "id": "4f913582-cbd9-48a4-ac33-e991b47a6167",
   "metadata": {},
   "outputs": [
    {
     "name": "stdout",
     "output_type": "stream",
     "text": [
      "Avg Word Count: 24.57\n"
     ]
    }
   ],
   "source": [
    "### 2. Average Text Length Per Item (for those with the price tag)\n",
    "\n",
    "num_words_list = []\n",
    "\n",
    "for datapoint in dataset: \n",
    "    try: \n",
    "        price = float(datapoint[\"price\"]) \n",
    "        if price > 0 and datapoint[\"description\"]: \n",
    "\n",
    "            for desc in datapoint[\"description\"]: \n",
    "                num_words = len(desc.split(\" \"))\n",
    "                num_words_list.append(num_words)\n",
    "            \n",
    "    except (ValueError, TypeError): \n",
    "        continue\n"
   ]
  },
  {
   "cell_type": "code",
   "execution_count": 34,
   "id": "d0c65608-3d98-4f0b-8c62-83a59f9a4e10",
   "metadata": {},
   "outputs": [
    {
     "name": "stdout",
     "output_type": "stream",
     "text": [
      "Avg Word Count: 24.57\n",
      "8285\n"
     ]
    }
   ],
   "source": [
    "avr_words_len = sum(num_words_list) / len(num_words_list)\n",
    "print(f\"Avg Word Count: {avr_words_len:.2f}\")\n",
    "\n",
    "highest_words_len = max(num_words_list)\n",
    "print(highest_words_len)"
   ]
  },
  {
   "cell_type": "code",
   "execution_count": 49,
   "id": "a4d0d522-90ca-430c-9a45-fa189b436991",
   "metadata": {},
   "outputs": [
    {
     "data": {
      "image/png": "[encoded data removed]",
      "text/plain": [
       "<Figure size 1500x600 with 1 Axes>"
      ]
     },
     "metadata": {},
     "output_type": "display_data"
    }
   ],
   "source": [
    "### Plot the distribution of lengths\n",
    "\n",
    "plt.figure(figsize=(15, 6))\n",
    "plt.title(f\"Lengths: Avg {avr_words_len:.2f} and highest {max(num_words_list)}\")\n",
    "plt.xlabel(\"Word Count\")\n",
    "plt.ylabel(\"Number of Posts\")\n",
    "plt.hist(num_words_list, rwidth=0.7, color=\"lightblue\", bins=range(0, 100, 1))\n",
    "plt.show()"
   ]
  },
  {
   "cell_type": "code",
   "execution_count": 72,
   "id": "4347e36a-920d-4a4e-8fb1-aa3236436c07",
   "metadata": {},
   "outputs": [
    {
     "data": {
      "text/plain": [
       "(array([1.0297e+04, 9.3709e+04, 7.8563e+04, 6.5807e+04, 3.3754e+04,\n",
       "        3.2299e+04, 1.7440e+04, 2.1243e+04, 9.2610e+03, 1.5053e+04,\n",
       "        6.9490e+03, 1.0418e+04, 4.8070e+03, 8.5390e+03, 3.9350e+03,\n",
       "        6.9090e+03, 2.8320e+03, 5.5680e+03, 2.1100e+03, 6.7060e+03,\n",
       "        1.4550e+03, 3.1800e+03, 1.5050e+03, 3.5090e+03, 1.4400e+03,\n",
       "        3.9060e+03, 1.1550e+03, 2.9650e+03, 1.0520e+03, 3.5080e+03,\n",
       "        9.2800e+02, 2.3370e+03, 8.0100e+02, 2.4130e+03, 7.5100e+02,\n",
       "        2.1600e+03, 6.4400e+02, 1.8280e+03, 6.1500e+02, 3.4720e+03,\n",
       "        4.7300e+02, 9.4300e+02, 4.4300e+02, 1.3060e+03, 5.2100e+02,\n",
       "        1.4260e+03, 4.1500e+02, 1.0470e+03, 3.7400e+02, 1.8040e+03,\n",
       "        3.7000e+02, 9.1100e+02, 3.4900e+02, 8.8800e+02, 2.8600e+02,\n",
       "        1.0040e+03, 3.1500e+02, 7.6400e+02, 3.0700e+02, 2.2300e+03,\n",
       "        2.5600e+02, 4.2900e+02, 2.1700e+02, 5.7700e+02, 2.2000e+02,\n",
       "        7.3400e+02, 1.8900e+02, 4.8400e+02, 2.0900e+02, 1.1000e+03,\n",
       "        2.3100e+02, 4.6300e+02, 1.5400e+02, 4.7500e+02, 1.7100e+02,\n",
       "        5.3400e+02, 1.6600e+02, 4.0000e+02, 1.4200e+02, 1.6510e+03,\n",
       "        1.4900e+02, 2.3400e+02, 1.2600e+02, 3.1600e+02, 1.1600e+02,\n",
       "        4.2600e+02, 1.1900e+02, 3.1600e+02, 1.2100e+02, 6.7200e+02,\n",
       "        1.3500e+02, 2.6400e+02, 9.1000e+01, 2.8900e+02, 1.2200e+02,\n",
       "        3.5900e+02, 7.1000e+01, 2.8200e+02, 1.7300e+02]),\n",
       " array([  0.,   5.,  10.,  15.,  20.,  25.,  30.,  35.,  40.,  45.,  50.,\n",
       "         55.,  60.,  65.,  70.,  75.,  80.,  85.,  90.,  95., 100., 105.,\n",
       "        110., 115., 120., 125., 130., 135., 140., 145., 150., 155., 160.,\n",
       "        165., 170., 175., 180., 185., 190., 195., 200., 205., 210., 215.,\n",
       "        220., 225., 230., 235., 240., 245., 250., 255., 260., 265., 270.,\n",
       "        275., 280., 285., 290., 295., 300., 305., 310., 315., 320., 325.,\n",
       "        330., 335., 340., 345., 350., 355., 360., 365., 370., 375., 380.,\n",
       "        385., 390., 395., 400., 405., 410., 415., 420., 425., 430., 435.,\n",
       "        440., 445., 450., 455., 460., 465., 470., 475., 480., 485., 490.,\n",
       "        495.]),\n",
       " <BarContainer object of 99 artists>)"
      ]
     },
     "execution_count": 72,
     "metadata": {},
     "output_type": "execute_result"
    },
    {
     "data": {
      "image/png": "[encoded data removed]",
      "text/plain": [
       "<Figure size 1500x600 with 1 Axes>"
      ]
     },
     "metadata": {},
     "output_type": "display_data"
    }
   ],
   "source": [
    "### Plot the distribution of prices\n",
    "\n",
    "plt.figure(figsize=(15, 6))\n",
    "plt.title(f\"Avg Price: ${avg_price:,.2f} & Max Price: ${max(price_list):,}\")\n",
    "plt.xlabel(\"Prices\")\n",
    "plt.ylabel(\"Number of Items\")\n",
    "plt.hist(price_list, rwidth=0.7, color=\"lightblue\", bins=(range(0, 500, 5)))"
   ]
  },
  {
   "cell_type": "code",
   "execution_count": 81,
   "id": "099f946f-4f50-4e93-a81d-5c8e6c39a0c0",
   "metadata": {},
   "outputs": [
    {
     "name": "stdout",
     "output_type": "stream",
     "text": [
      "Dell PowerEdge C6320 24B 8X E5-2620 V4 8-Core 2.1Ghz 2048GB 24x 1.6TB SSD H330 (Renewed)\n"
     ]
    }
   ],
   "source": [
    "### Find the item with the highest price: \n",
    "prices = []\n",
    "for datapoint in dataset: \n",
    "    try:\n",
    "       if float(datapoint[\"price\"]) > 44000:\n",
    "           print(datapoint[\"title\"])\n",
    "    except ValueError: \n",
    "        continue    "
   ]
  }
 ],
 "metadata": {
  "kernelspec": {
   "display_name": "Python 3 (ipykernel)",
   "language": "python",
   "name": "python3"
  },
  "language_info": {
   "codemirror_mode": {
    "name": "ipython",
    "version": 3
   },
   "file_extension": ".py",
   "mimetype": "text/x-python",
   "name": "python",
   "nbconvert_exporter": "python",
   "pygments_lexer": "ipython3",
   "version": "3.13.1"
  }
 },
 "nbformat": 4,
 "nbformat_minor": 5
}
