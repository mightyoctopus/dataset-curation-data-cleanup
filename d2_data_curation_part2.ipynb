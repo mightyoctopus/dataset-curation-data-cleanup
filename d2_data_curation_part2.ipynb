{
 "cells": [
  {
   "cell_type": "code",
   "execution_count": null,
   "id": "b036031e-c57c-47a1-b228-65076e8d2427",
   "metadata": {},
   "outputs": [],
   "source": [
    "import os\n",
    "import random\n",
    "from dotenv import load_dotenv\n",
    "from huggingface_hub import login\n",
    "from datasets import load_dataset, Dataset, DatasetDict\n",
    "import matplotlib.pyplot as plt\n",
    "from collections import Counter, defaultdict\n",
    "import numpy as np \n",
    "import pickle\n",
    "\n",
    "### Internal classes\n",
    "from loaders import ItemLoader\n",
    "from items import Item "
   ]
  },
  {
   "cell_type": "code",
   "execution_count": null,
   "id": "ff63bd3f-660d-4cee-bca3-fe50a04267ff",
   "metadata": {},
   "outputs": [],
   "source": [
    "%matplotlib inline"
   ]
  },
  {
   "cell_type": "code",
   "execution_count": null,
   "id": "f730153a-36a5-43b7-b161-c800d8f72c73",
   "metadata": {},
   "outputs": [],
   "source": [
    "load_dotenv()\n",
    "\n",
    "OPENAI_API_KEY = os.getenv(\"OPENAI_API_KEY\")\n",
    "ANTHROPIC_API_KEY = os.getenv(\"ANTHROPIC_API_KEY\")\n",
    "HF_TOKEN_KEY = os.getenv(\"HF_TOKEN\")"
   ]
  },
  {
   "cell_type": "code",
   "execution_count": null,
   "id": "57368f7e-e305-43a7-8c6f-eab8a8fa1c38",
   "metadata": {},
   "outputs": [],
   "source": [
    "login(HF_TOKEN_KEY, add_to_git_credential=True)"
   ]
  },
  {
   "cell_type": "code",
   "execution_count": null,
   "id": "be4a9983-0e9b-486b-ba03-80524cdf344f",
   "metadata": {},
   "outputs": [],
   "source": [
    "items = ItemLoader(\"Electronics\").load()\n",
    "\n",
    "print(items[0].prompt)\n",
    "\n",
    "print(len(items))"
   ]
  },
  {
   "cell_type": "markdown",
   "id": "86312abd-214a-4cb9-aec0-587b1223cfcc",
   "metadata": {},
   "source": [
    "## Scale Up -- All Different Categories Into One List"
   ]
  },
  {
   "cell_type": "code",
   "execution_count": null,
   "id": "711fa219-78b6-4113-990b-5e47a1b34d66",
   "metadata": {},
   "outputs": [],
   "source": [
    "dataset_names = [\n",
    "    \"All_Beauty\", \"Arts_Crafts_and_Sewing\", \"Cell_Phones_and_Accessories\", \n",
    "    \"Electronics\", \"Gift_Cards\", \"Handmade_Products\", \"Industrial_and_Scientific\", \n",
    "    \"Musical_Instruments\", \"Toys_and_Games\"\n",
    "]"
   ]
  },
  {
   "cell_type": "code",
   "execution_count": null,
   "id": "1a284673-1680-4fa8-b321-859b26a92b7c",
   "metadata": {},
   "outputs": [],
   "source": [
    "items = [] \n",
    "for dataset_name in dataset_names: \n",
    "    loader = ItemLoader(dataset_name)\n",
    "    items.extend(loader.load())"
   ]
  },
  {
   "cell_type": "code",
   "execution_count": null,
   "id": "809aa2ee-319b-4d57-8dba-d0942728e08a",
   "metadata": {},
   "outputs": [],
   "source": [
    "print(f\"Grand Total of {len(items):,} Items.\")"
   ]
  },
  {
   "cell_type": "code",
   "execution_count": null,
   "id": "b54c555f-a540-4811-bd6f-7c587c15366e",
   "metadata": {},
   "outputs": [],
   "source": [
    "### Count tokens -- Avr and highest out of the all items \n",
    "tokens = [item.token_count for item in items]\n",
    "\n",
    "plt.figure(figsize=(15, 6))\n",
    "plt.title(f\"Avr Tokens: {sum(tokens) / len(tokens):.2f} | Highest Tokens: {max(tokens)}\")\n",
    "plt.xlabel(\"Tokens\")\n",
    "plt.ylabel(\"Counts\")\n",
    "plt.hist(tokens, rwidth=0.7, color=\"purple\", bins = range(150, 200, 10))\n",
    "plt.show()"
   ]
  },
  {
   "cell_type": "code",
   "execution_count": null,
   "id": "95afd43d-3b68-4568-ba41-378c7a96144e",
   "metadata": {},
   "outputs": [],
   "source": [
    "### Price distribution out of the all items\n",
    "### (Avr price and highest)\n",
    "\n",
    "prices = [item.price for item in items]\n",
    "\n",
    "plt.figure(figsize=(15, 6))\n",
    "plt.title(f\"Avr Price: \\\\${sum(prices) / len(prices):,.2f} | Highest Price: ${max(prices):,}\")\n",
    "plt.xlabel(\"Price\")\n",
    "plt.ylabel(\"Counts\")\n",
    "plt.hist(prices, rwidth=0.7, color=\"C8\", bins=range(0, 1000, 10))\n",
    "plt.show()"
   ]
  },
  {
   "cell_type": "code",
   "execution_count": null,
   "id": "d2f6315e-34e7-4de0-ae11-5224c4cff493",
   "metadata": {},
   "outputs": [],
   "source": [
    "print(items[1])"
   ]
  },
  {
   "cell_type": "code",
   "execution_count": null,
   "id": "768ecbfd-177d-47d3-99bd-dbc0f8c603f0",
   "metadata": {},
   "outputs": [],
   "source": [
    "raw_categories = [item.category for item in items]\n",
    "\n",
    "counter = Counter(raw_categories)\n",
    "\n",
    "### Category with the highest number of items\n",
    "top_category = counter.most_common(1)\n",
    "\n",
    "### keys and values - keys: categories | values: item counts\n",
    "# key_list = [k for k, v in counter.items()]\n",
    "# value_list = [v for k, v in counter.items()]\n",
    "\n",
    "categories, counts = zip(*counter.items())\n",
    "\n",
    "plt.figure(figsize=(15, 6))\n",
    "plt.bar(categories, counts, color=\"goldenrod\")\n",
    "plt.title(f\"Avr Num of Items: {round(counter.total() / len(categories))} | Highest Products Listed: {top_category[0][0]} - {top_category[0][1]} items\")\n",
    "plt.xlabel(\"Categories\")\n",
    "plt.ylabel(\"Counts\")\n",
    "plt.xticks(rotation=10, ha=\"right\")\n",
    "plt.show()"
   ]
  },
  {
   "cell_type": "code",
   "execution_count": null,
   "id": "20c35776-f608-4400-913d-2fd3c673bda6",
   "metadata": {},
   "outputs": [],
   "source": [
    "print(items[0])"
   ]
  },
  {
   "cell_type": "markdown",
   "id": "a9c07650-fb4c-4ee9-a714-4fdda829f1ae",
   "metadata": {},
   "source": [
    "## Objective\n",
    "\n",
    "Craft a dataset which is more balanced in terms of prices. Less heavily scewed to cheap items, with an average that's higher than $60. Try to balance out the categories - fewer Automotive items."
   ]
  },
  {
   "cell_type": "code",
   "execution_count": null,
   "id": "6bd1329b-7be1-4f99-9c2d-1dc091f7c34d",
   "metadata": {},
   "outputs": [],
   "source": [
    "slots = defaultdict(list)\n",
    "for item in items: \n",
    "    slots[round(item.price)].append(item)\n"
   ]
  },
  {
   "cell_type": "code",
   "execution_count": null,
   "id": "7642f59b-338d-460e-b722-9978e8e858b6",
   "metadata": {},
   "outputs": [],
   "source": [
    "# Create a dataset called \"sample\" which tries to more evenly take from the range of prices\n",
    "# And gives more weight to items from categories other than Automotive\n",
    "# Set random seed for reproducibility\n",
    "\n",
    "np.random.seed(42)\n",
    "random.seed(42)\n",
    "\n",
    "### samples list with data sorted by lower price to higher order: range(1, 1000)\n",
    "samples = []\n",
    "\n",
    "for i in range(1, 1000): \n",
    "    slot = slots[i]\n",
    "    if i >= 240:\n",
    "        samples.extend(slot) \n",
    "    elif len(slot) <= 1200: \n",
    "        samples.extend(slot) \n",
    "    else: \n",
    "        weights = np.array([1 if item.category == \"Electronics\" else 5 for item in slot])\n",
    "        weights = weights / sum(weights) \n",
    "        selected_indices = np.random.choice(len(slot), size=1200, replace=False, p=weights) \n",
    "        selected = [slot[i] for i in selected_indices]\n",
    "        samples.extend(selected)\n",
    "        \n",
    "print(f\"There are {len(samples):,} items in the sample\")\n",
    "        "
   ]
  },
  {
   "cell_type": "code",
   "execution_count": null,
   "id": "e3d61c73-b2f0-41e7-b89b-68ddae210e70",
   "metadata": {},
   "outputs": [],
   "source": [
    "# Plot the distribution of prices in sample\n",
    "\n",
    "prices = [float(item.price) for item in samples]\n",
    "plt.figure(figsize=(15, 10))\n",
    "plt.title(f\"Avg {sum(prices)/len(prices):.2f} and highest {max(prices):,.2f}\\n\")\n",
    "plt.xlabel('Price ($)')\n",
    "plt.ylabel('Count')\n",
    "plt.hist(prices, rwidth=0.7, color=\"darkblue\", bins=range(0, 1000, 10))\n",
    "plt.show()"
   ]
  },
  {
   "cell_type": "code",
   "execution_count": null,
   "id": "b3786bb7-c6c7-43fa-9b00-a083ce947eee",
   "metadata": {},
   "outputs": [],
   "source": [
    "### Category Counter \n",
    "\n",
    "categories = [item.category for item in samples]\n",
    "\n",
    "category_counter = Counter(categories) \n",
    "\n",
    "### Separate categories and counts \n",
    "cats, counts = zip(*category_counter.items())\n",
    "### Category with the highest counts\n",
    "highest_key = category_counter.most_common(1)\n",
    "\n",
    "### Bar Chart:\n",
    "plt.figure(figsize=(15, 6))\n",
    "plt.bar(cats, counts, color=\"lightgreen\")\n",
    "plt.title(f\"Avr Counts of Categories: {sum(counts) / len(counts):.2f} | Highest Counts: {max(counts)}({highest_key[0][0]})\")\n",
    "plt.xlabel(\"Categories\")\n",
    "plt.ylabel(\"Counts\")\n",
    "plt.xticks(rotation=30, ha=\"right\")\n",
    "\n",
    "\n",
    "### Add labels on top of each bar \n",
    "for i, v in enumerate(counts): \n",
    "    plt.text(i, v, f\"{v:,}\", ha=\"center\", va=\"bottom\")\n",
    "\n",
    "plt.show()\n"
   ]
  },
  {
   "cell_type": "code",
   "execution_count": null,
   "id": "080b9d59-7afe-44cf-a4f1-f15e3f281f90",
   "metadata": {},
   "outputs": [],
   "source": [
    "### Pie chart\n",
    "\n",
    "plt.figure(figsize=(12, 10))\n",
    "plt.pie(counts, labels=cats, autopct='%1.0f%%', startangle=90)\n",
    "\n",
    "### Add a circle at the center to create a donut chart (optional)\n",
    "centre_circle = plt.Circle((0,0), 0.70, fc='white')\n",
    "fig = plt.gcf()\n",
    "fig.gca().add_artist(centre_circle)\n",
    "plt.title('Categories')\n",
    "\n",
    "### Equal aspect ratio ensures that pie is drawn as a circle\n",
    "plt.axis('equal')  \n",
    "\n",
    "plt.show()"
   ]
  },
  {
   "cell_type": "code",
   "execution_count": null,
   "id": "22701eef-70ca-44f0-8f6a-63eaefb8c66a",
   "metadata": {},
   "outputs": [],
   "source": [
    "### Correlation between text verbosity and price \n",
    "\n",
    "### To Check:\n",
    "### if high-end products having longer, more detailed descriptions \n",
    "### or cheap products having short, minimal text.\n",
    "\n",
    "\n",
    "sizes = [len(item.prompt) for item in samples]\n",
    "prices = [item.price for item in samples] \n",
    "\n",
    "plt.figure(figsize=(15, 8))\n",
    "plt.scatter(sizes, prices, s=0.2, color=\"red\")\n",
    "\n",
    "plt.title(\"Is there a simple correlation?\")\n",
    "plt.xlabel(\"Text Length\")\n",
    "plt.ylabel(\"Price\")\n",
    "\n",
    "plt.show()"
   ]
  },
  {
   "cell_type": "code",
   "execution_count": null,
   "id": "1b12d76f-dda3-4da8-8431-38159187bee8",
   "metadata": {},
   "outputs": [],
   "source": [
    "def report(item): \n",
    "    prompt = item.prompt \n",
    "    tokens = Item.tokenizer.encode(item.prompt)\n",
    "    print(\"PROMPT:\\n\", prompt)\n",
    "    print(\"\\n\")\n",
    "    ### Check the last 10 tokens and text to check tokenizer correctly includes the target prompt \n",
    "    print(\"Last 10 Tokens:\\n\",tokens[-10:])\n",
    "    print(\"\\n\")\n",
    "    print(\"Last 10 Decoded:\\n\",Item.tokenizer.batch_decode(tokens[-10:]))\n",
    "\n",
    "print(report(samples[222382]))"
   ]
  },
  {
   "cell_type": "code",
   "execution_count": null,
   "id": "e086c601-47f4-42b0-850a-5df38fc58bef",
   "metadata": {},
   "outputs": [],
   "source": [
    "random.seed(42)\n",
    "random.shuffle(samples)\n",
    "\n",
    "print(len(samples))\n",
    "### Use 5% - 10% of the whole data for testing purposes\n",
    "train = samples[:230_000]\n",
    "test = samples[230_000:246_000]\n",
    "\n",
    "print(f\"Length of Train Data: {len(train)}\\nLength of Test Data: {len(test)}\")"
   ]
  },
  {
   "cell_type": "code",
   "execution_count": null,
   "id": "80c22c37-e8e7-461b-8138-6013be12ea93",
   "metadata": {},
   "outputs": [],
   "source": [
    "print(train[0].prompt)"
   ]
  },
  {
   "cell_type": "code",
   "execution_count": null,
   "id": "f6a6e75b-5b8d-4a04-8265-571765623866",
   "metadata": {},
   "outputs": [],
   "source": [
    "print(test[0].test_prompt())"
   ]
  },
  {
   "cell_type": "code",
   "execution_count": 38,
   "id": "4f83f643-2bb3-4410-8b04-c4c79e3feaa0",
   "metadata": {},
   "outputs": [
    {
     "data": {
      "image/png": "[encoded data removed]",
      "text/plain": [
       "<Figure size 1600x700 with 1 Axes>"
      ]
     },
     "metadata": {},
     "output_type": "display_data"
    }
   ],
   "source": [
    "# Plot the distribution of prices in the first 250 test points\n",
    "\n",
    "prices = [item.price for item in test[:250]]\n",
    "\n",
    "plt.figure(figsize=(16, 7))\n",
    "plt.title(f\"Avr Price: {sum(prices) / len(prices):.2f} | Highest Price: {max(prices)}\")\n",
    "plt.xlabel(\"Prices (USD)\")\n",
    "plt.ylabel(\"Counts\")\n",
    "plt.hist(prices, rwidth=0.7, color=\"xkcd:sky blue\", bins=range(0, 1000, 10))\n",
    "plt.show()"
   ]
  },
  {
   "cell_type": "markdown",
   "id": "d492f975-2ab7-446d-980d-399034ebf87f",
   "metadata": {},
   "source": [
    "## Upload Dataset"
   ]
  },
  {
   "cell_type": "code",
   "execution_count": 40,
   "id": "de959e91-1859-49b3-9ae9-f4b349e8ffae",
   "metadata": {},
   "outputs": [
    {
     "name": "stdout",
     "output_type": "stream",
     "text": [
      "[189.99, 64.45, 128.99, 252.7, 16.99, 499.99, 363.36, 24.75, 65.2, 189.95]\n"
     ]
    }
   ],
   "source": [
    "train_prompts = [item.prompt for item in train]\n",
    "train_prices = [item.price for item in train]\n",
    "test_prompts = [item.prompt for item in test]\n",
    "test_prices = [item.price for item in test]"
   ]
  },
  {
   "cell_type": "code",
   "execution_count": 42,
   "id": "68985f21-0041-42e2-8d42-8a76944f3e41",
   "metadata": {},
   "outputs": [
    {
     "name": "stdout",
     "output_type": "stream",
     "text": [
      "DatasetDict({\n",
      "    train: Dataset({\n",
      "        features: ['text', 'price'],\n",
      "        num_rows: 230000\n",
      "    })\n",
      "    test: Dataset({\n",
      "        features: ['text', 'price'],\n",
      "        num_rows: 16000\n",
      "    })\n",
      "})\n"
     ]
    }
   ],
   "source": [
    "### Create a Dataset from the lists\n",
    "\n",
    "train_dataset = Dataset.from_dict({\"text\": train_prompts, \"price\": train_prices})\n",
    "test_dataset = Dataset.from_dict({\"text\": test_prompts, \"price\": test_prices})\n",
    "\n",
    "dataset = DatasetDict({\n",
    "    \"train\": train_dataset, \n",
    "    \"test\": test_dataset\n",
    "})\n",
    "print(dataset)"
   ]
  },
  {
   "cell_type": "code",
   "execution_count": 44,
   "id": "8b370661-9a49-413c-8f98-eff3fc460232",
   "metadata": {},
   "outputs": [
    {
     "name": "stderr",
     "output_type": "stream",
     "text": [
      "Uploading the dataset shards:   0%|                                           | 0/1 [00:00<?, ? shards/s]\n",
      "Creating parquet from Arrow format:   0%|                                          | 0/2 [00:00<?, ?ba/s]\u001b[A\n",
      "Creating parquet from Arrow format:  50%|█████████████████                 | 1/2 [00:00<00:00,  2.95ba/s]\u001b[A\n",
      "Creating parquet from Arrow format: 100%|██████████████████████████████████| 2/2 [00:00<00:00,  3.20ba/s]\u001b[A\n",
      "Processing Files (0 / 0): |                                                 |  0.00B /  0.00B            \n",
      "Processing Files (0 / 1):   1%|▏                                            |  524kB /  103MB,  328kB/s  \u001b[A\n",
      "Processing Files (0 / 1):   2%|▋                                            | 1.58MB /  103MB,  716kB/s  \u001b[A\n",
      "Processing Files (0 / 1):   2%|▉                                            | 2.10MB /  103MB,  875kB/s  \u001b[A\n",
      "Processing Files (0 / 1):   3%|█▍                                           | 3.15MB /  103MB, 1.21MB/s  \u001b[A\n",
      "Processing Files (0 / 1):   6%|██▊                                          | 6.30MB /  103MB, 2.25MB/s  \u001b[A\n",
      "Processing Files (0 / 1):  10%|████▌                                        | 10.5MB /  103MB, 3.50MB/s  \u001b[A\n",
      "Processing Files (0 / 1):  15%|██████▋                                      | 15.2MB /  103MB, 4.76MB/s  \u001b[A\n",
      "Processing Files (0 / 1):  22%|█████████▊                                   | 22.6MB /  103MB, 6.64MB/s  \u001b[A\n",
      "Processing Files (0 / 1):  29%|█████████████                                | 29.9MB /  103MB, 8.32MB/s  \u001b[A\n",
      "Processing Files (0 / 1):  36%|████████████████                             | 36.8MB /  103MB, 9.67MB/s  \u001b[A\n",
      "Processing Files (0 / 1):  43%|███████████████████▌                         | 44.6MB /  103MB, 11.2MB/s  \u001b[A\n",
      "Processing Files (0 / 1):  51%|██████████████████████▉                      | 52.5MB /  103MB, 12.5MB/s  \u001b[A\n",
      "Processing Files (0 / 1):  60%|██████████████████████████▉                  | 61.5MB /  103MB, 14.0MB/s  \u001b[A\n",
      "Processing Files (0 / 1):  68%|██████████████████████████████▌              | 69.9MB /  103MB, 15.2MB/s  \u001b[A\n",
      "Processing Files (0 / 1):  76%|██████████████████████████████████▏          | 78.3MB /  103MB, 16.3MB/s  \u001b[A\n",
      "Processing Files (0 / 1):  83%|█████████████████████████████████████▏       | 85.1MB /  103MB, 17.0MB/s  \u001b[A\n",
      "Processing Files (0 / 1):  87%|███████████████████████████████████████      | 89.3MB /  103MB, 17.2MB/s  \u001b[A\n",
      "Processing Files (0 / 1):  91%|████████████████████████████████████████▉    | 93.5MB /  103MB, 17.3MB/s  \u001b[A\n",
      "Processing Files (0 / 1):  95%|██████████████████████████████████████████▋  | 97.7MB /  103MB, 17.4MB/s  \u001b[A\n",
      "Processing Files (0 / 1): 100%|████████████████████████████████████████████▊|  102MB /  103MB, 17.7MB/s  \u001b[A\n",
      "Processing Files (1 / 1): 100%|█████████████████████████████████████████████|  103MB /  103MB, 14.7MB/s  \u001b[A\n",
      "Processing Files (1 / 1): 100%|█████████████████████████████████████████████|  103MB /  103MB, 13.5MB/s  \u001b[A\n",
      "New Data Upload: 100%|██████████████████████████████████████████████████████|  103MB /  103MB, 13.5MB/s  \n",
      "Uploading the dataset shards: 100%|███████████████████████████████████| 1/1 [00:12<00:00, 12.07s/ shards]\n",
      "Uploading the dataset shards:   0%|                                           | 0/1 [00:00<?, ? shards/s]\n",
      "Creating parquet from Arrow format: 100%|██████████████████████████████████| 1/1 [00:00<00:00, 20.94ba/s]\u001b[A\n",
      "Processing Files (0 / 0): |                                                 |  0.00B /  0.00B            \n",
      "Processing Files (0 / 1):  51%|███████████████████████                      | 3.68MB / 7.17MB, 18.3MB/s  \u001b[A\n",
      "Processing Files (0 / 1):  66%|█████████████████████████████▋               | 4.73MB / 7.17MB, 11.8MB/s  \u001b[A\n",
      "Processing Files (0 / 1):  95%|██████████████████████████████████████████▊  | 6.83MB / 7.17MB, 11.4MB/s  \u001b[A\n",
      "Processing Files (1 / 1): 100%|█████████████████████████████████████████████| 7.17MB / 7.17MB, 4.49MB/s  \u001b[A\n",
      "Processing Files (1 / 1): 100%|█████████████████████████████████████████████| 7.17MB / 7.17MB, 3.98MB/s  \u001b[A\n",
      "New Data Upload: 100%|██████████████████████████████████████████████████████| 7.17MB / 7.17MB, 3.98MB/s  \n",
      "Uploading the dataset shards: 100%|███████████████████████████████████| 1/1 [00:03<00:00,  3.03s/ shards]\n"
     ]
    },
    {
     "data": {
      "text/plain": [
       "CommitInfo(commit_url='https://huggingface.co/datasets/MightyOctopus/amazon-pricer-dataset/commit/8cca4383996e320e290ba6eeb18bbf5595986559', commit_message='Upload dataset', commit_description='', oid='8cca4383996e320e290ba6eeb18bbf5595986559', pr_url=None, repo_url=RepoUrl('https://huggingface.co/datasets/MightyOctopus/amazon-pricer-dataset', endpoint='https://huggingface.co', repo_type='dataset', repo_id='MightyOctopus/amazon-pricer-dataset'), pr_revision=None, pr_num=None)"
      ]
     },
     "execution_count": 44,
     "metadata": {},
     "output_type": "execute_result"
    }
   ],
   "source": [
    "### Push to HF Hub\n",
    "\n",
    "HF_USER = \"MightyOctopus\"\n",
    "DATASET_NAME = f\"{HF_USER}/amazon-pricer-dataset\"\n",
    "\n",
    "dataset.push_to_hub(DATASET_NAME, private=False)\n"
   ]
  },
  {
   "cell_type": "code",
   "execution_count": 45,
   "id": "9b3a9861-b88d-4426-a011-cbb07cdf051f",
   "metadata": {},
   "outputs": [],
   "source": [
    "with open(\"train.pkl\", \"wb\") as f: \n",
    "    pickle.dump(train, f)\n",
    "\n",
    "with open(\"test.pkl\", \"wb\") as f: \n",
    "    pickle.dump(test, f)"
   ]
  },
  {
   "cell_type": "code",
   "execution_count": null,
   "id": "11709756-eaf3-4a4b-b8c9-eb2cebe85233",
   "metadata": {},
   "outputs": [],
   "source": []
  }
 ],
 "metadata": {
  "kernelspec": {
   "display_name": "Python 3 (ipykernel)",
   "language": "python",
   "name": "python3"
  },
  "language_info": {
   "codemirror_mode": {
    "name": "ipython",
    "version": 3
   },
   "file_extension": ".py",
   "mimetype": "text/x-python",
   "name": "python",
   "nbconvert_exporter": "python",
   "pygments_lexer": "ipython3",
   "version": "3.13.1"
  }
 },
 "nbformat": 4,
 "nbformat_minor": 5
}
